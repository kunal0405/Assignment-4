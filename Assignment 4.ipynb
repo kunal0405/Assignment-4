{
 "cells": [
  {
   "cell_type": "markdown",
   "id": "8d6af8ee",
   "metadata": {},
   "source": [
    "# 1.Write a Python program to create a lambda function that adds 25 to a given number passed in as an argument.\n",
    "\n",
    "\n",
    "\n",
    "sample input: 10\n",
    "\n",
    "sample output: 35"
   ]
  },
  {
   "cell_type": "code",
   "execution_count": 6,
   "id": "95d3b0bb",
   "metadata": {},
   "outputs": [
    {
     "name": "stdout",
     "output_type": "stream",
     "text": [
      "10\n",
      "35\n"
     ]
    }
   ],
   "source": [
    "a=int(input())\n",
    "x = lambda a : a + 25\n",
    "print(x(a))\n"
   ]
  },
  {
   "cell_type": "markdown",
   "id": "c05e5936",
   "metadata": {},
   "source": [
    "# 2.Write a Python program to triple all numbers of a given list of integers. Use Python map.\n",
    "\n",
    "\n",
    "\n",
    "sample list: [1, 2, 3, 4, 5, 6, 7]\n",
    "\n",
    "\n",
    "\n",
    "Triple of list numbers:\n",
    "\n",
    "[3, 6, 9, 12, 15, 18, 21]"
   ]
  },
  {
   "cell_type": "code",
   "execution_count": 7,
   "id": "3b278ecc",
   "metadata": {},
   "outputs": [
    {
     "name": "stdout",
     "output_type": "stream",
     "text": [
      "num_list:  (1, 2, 3, 4, 5, 6, 7)\n",
      "\n",
      "Triple numbers is:\n",
      "[3, 6, 9, 12, 15, 18, 21]\n"
     ]
    }
   ],
   "source": [
    "num = (1, 2, 3, 4, 5, 6, 7) \n",
    "print(\"num_list: \", num)\n",
    "result = map(lambda x: x + x + x, num) \n",
    "print(\"\\nTriple numbers is:\")\n",
    "print(list(result))"
   ]
  },
  {
   "cell_type": "markdown",
   "id": "08262281",
   "metadata": {},
   "source": [
    "# 3.Write a Python program to square the elements of a list using map() function.\n",
    "\n",
    "\n",
    "\n",
    "Sample List: [4, 5, 2, 9]\n",
    "\n",
    "Square the elements of the list:\n",
    "\n",
    "[16, 25, 4, 81]"
   ]
  },
  {
   "cell_type": "code",
   "execution_count": 12,
   "id": "0aabc690",
   "metadata": {},
   "outputs": [
    {
     "name": "stdout",
     "output_type": "stream",
     "text": [
      "sample_list:  [4, 5, 2, 9]\n",
      "The square of num is:\n",
      "[16, 25, 4, 81]\n"
     ]
    }
   ],
   "source": [
    "def square_num(n):\n",
    "    return n * n\n",
    "num = [4, 5, 2, 9]\n",
    "print(\"sample_list: \",num)\n",
    "result = map(square_num, num)\n",
    "print(\"The square of num is:\")\n",
    "print(list(result))"
   ]
  }
 ],
 "metadata": {
  "kernelspec": {
   "display_name": "Python 3 (ipykernel)",
   "language": "python",
   "name": "python3"
  },
  "language_info": {
   "codemirror_mode": {
    "name": "ipython",
    "version": 3
   },
   "file_extension": ".py",
   "mimetype": "text/x-python",
   "name": "python",
   "nbconvert_exporter": "python",
   "pygments_lexer": "ipython3",
   "version": "3.9.6"
  }
 },
 "nbformat": 4,
 "nbformat_minor": 5
}
